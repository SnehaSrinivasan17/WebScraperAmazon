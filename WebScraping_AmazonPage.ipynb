{
 "cells": [
  {
   "cell_type": "markdown",
   "metadata": {
    "id": "-DL_Hjx1f-Uk"
   },
   "source": [
    "# Libraries"
   ]
  },
  {
   "cell_type": "code",
   "execution_count": null,
   "metadata": {
    "id": "-evh0p-PdxgS"
   },
   "outputs": [],
   "source": [
    "import requests\n",
    "from bs4 import BeautifulSoup\n",
    "import time\n",
    "import datetime\n",
    "import os\n",
    "import csv\n",
    "import pandas as pd\n",
    "import smtplib #emails"
   ]
  },
  {
   "cell_type": "markdown",
   "metadata": {
    "id": "VSK5feOOoH0d"
   },
   "source": [
    "# Requests"
   ]
  },
  {
   "cell_type": "code",
   "execution_count": null,
   "metadata": {
    "id": "3kBqxbl9sWZW"
   },
   "outputs": [],
   "source": [
    "URL = 'https://www.amazon.in/Casio-Analog-Blue-Watch-MTP-VT01L-2BUDF-A1616/dp/B07NMV8X74/ref=pd_ci_mcx_mh_mcx_views_0_title?pd_rd_w=rTZzK&content-id=amzn1.sym.fa0aca50-60f7-47ca-a90e-c40e2f4b46a9%3Aamzn1.symc.ca948091-a64d-450e-86d7-c161ca33337b&pf_rd_p=fa0aca50-60f7-47ca-a90e-c40e2f4b46a9&pf_rd_r=RCKJ1VCJAZHRW9YY8K0D&pd_rd_wg=D8MfK&pd_rd_r=0a554bf9-d927-4121-823f-477fdf03073d&pd_rd_i=B07NMV8X74'"
   ]
  },
  {
   "cell_type": "code",
   "execution_count": null,
   "metadata": {
    "id": "_D8tpdaRs9uI"
   },
   "outputs": [],
   "source": [
    "#Headers for request, https://www.whatismybrowser.com/detect/what-is-my-user-agent/\n",
    "\n",
    "headers = {\n",
    "    'authority': 'www.amazon.com',\n",
    "    'pragma': 'no-cache',\n",
    "    'cache-control': 'no-cache',\n",
    "    'dnt': '1',\n",
    "    'upgrade-insecure-requests': '1',\n",
    "    'user-agent': 'Mozilla/5.0 (Windows NT 10.0; Win64; x64) AppleWebKit/537.36 (KHTML, like Gecko) Chrome/130.0.0.0 Safari/537.36',\n",
    "    'accept': 'text/html,application/xhtml+xml,application/xml;q=0.9,image/webp,image/apng,*/*;q=0.8,application/signed-exchange;v=b3;q=0.9',\n",
    "    'sec-fetch-site': 'none',\n",
    "    'sec-fetch-mode': 'navigate',\n",
    "    'sec-fetch-dest': 'document',\n",
    "    'accept-language': 'en-GB,en-US;q=0.9,en;q=0.8',\n",
    "}"
   ]
  },
  {
   "cell_type": "code",
   "execution_count": null,
   "metadata": {
    "id": "jGTakcLVtd80"
   },
   "outputs": [],
   "source": [
    "webpage = requests.get(URL,headers=headers)"
   ]
  },
  {
   "cell_type": "markdown",
   "metadata": {
    "id": "LQ5Ahu3qoSgY"
   },
   "source": [
    "# Parsing the Data"
   ]
  },
  {
   "cell_type": "code",
   "execution_count": null,
   "metadata": {
    "id": "FrlT3GApmDTY"
   },
   "outputs": [],
   "source": [
    "price = soup.find('span', class_ = 'a-price-whole').get_text()\n",
    "price = price.strip()\n",
    "print(price)\n",
    "print(type(price))"
   ]
  },
  {
   "cell_type": "markdown",
   "metadata": {
    "id": "1hrpVFeNorQM"
   },
   "source": [
    "# Creating a Dataset"
   ]
  },
  {
   "cell_type": "code",
   "execution_count": null,
   "metadata": {
    "id": "DTZYCTF80Oz0"
   },
   "outputs": [],
   "source": [
    "# def send_mail():\n",
    "#     server = smtplib.SMTP_SSL('smtp.gmail.com',465)\n",
    "#     server.ehlo()\n",
    "#     server.login('snehapesu@gmail.com','sneha@17')\n",
    "\n",
    "#     subject = \"Price Change\"\n",
    "#     body = \"Price Change\"\n",
    "\n",
    "#     msg = f\"Subject: {subject}\\n\\n{body}\"\n",
    "\n",
    "#     server.sendmail(\n",
    "#         'snehapesu@gmail.com',\n",
    "#         msg\n",
    "\n",
    "#     )"
   ]
  },
  {
   "cell_type": "code",
   "execution_count": null,
   "metadata": {
    "id": "E_xqoCh-wXXp"
   },
   "outputs": [],
   "source": [
    "#Automation\n",
    "\n",
    "def check_price():\n",
    "  URL = 'https://www.amazon.in/Casio-Analog-Blue-Watch-MTP-VT01L-2BUDF-A1616/dp/B07NMV8X74/ref=pd_ci_mcx_mh_mcx_views_0_title?pd_rd_w=rTZzK&content-id=amzn1.sym.fa0aca50-60f7-47ca-a90e-c40e2f4b46a9%3Aamzn1.symc.ca948091-a64d-450e-86d7-c161ca33337b&pf_rd_p=fa0aca50-60f7-47ca-a90e-c40e2f4b46a9&pf_rd_r=RCKJ1VCJAZHRW9YY8K0D&pd_rd_wg=D8MfK&pd_rd_r=0a554bf9-d927-4121-823f-477fdf03073d&pd_rd_i=B07NMV8X74'\n",
    "  headers = {\n",
    "    'authority': 'www.amazon.com',\n",
    "    'pragma': 'no-cache',\n",
    "    'cache-control': 'no-cache',\n",
    "    'dnt': '1',\n",
    "    'upgrade-insecure-requests': '1',\n",
    "    'user-agent': 'Mozilla/5.0 (Windows NT 10.0; Win64; x64) AppleWebKit/537.36 (KHTML, like Gecko) Chrome/130.0.0.0 Safari/537.36',\n",
    "    'accept': 'text/html,application/xhtml+xml,application/xml;q=0.9,image/webp,image/apng,*/*;q=0.8,application/signed-exchange;v=b3;q=0.9',\n",
    "    'sec-fetch-site': 'none',\n",
    "    'sec-fetch-mode': 'navigate',\n",
    "    'sec-fetch-dest': 'document',\n",
    "    'accept-language': 'en-GB,en-US;q=0.9,en;q=0.8',\n",
    "  }\n",
    "  webpage = requests.get(URL,headers=headers)\n",
    "  soup = BeautifulSoup(webpage.content,\"html.parser\")\n",
    "  soup = BeautifulSoup(soup.prettify(),\"html.parser\")\n",
    "  title = soup.find(id=\"productTitle\").get_text()\n",
    "  title = title.strip()\n",
    "  price = soup.find('span', class_ = 'a-price-whole').get_text()\n",
    "  price=price.strip()\n",
    "  today = datetime.date.today()\n",
    "  header = ['Date','Title','Price']\n",
    "  data = [today,title,price]\n",
    "  with open ('AmazonWebScraperDataset.csv','a+',newline='',encoding = 'UTF8') as file:\n",
    "    file.seek(0)\n",
    "    writer = csv.writer(file)\n",
    "    if file.seek(1) == '':\n",
    "      writer.writerow(header)\n",
    "    writer.writerow(data)\n"
   ]
  },
  {
   "cell_type": "code",
   "execution_count": null,
   "metadata": {
    "id": "FwwgfjUDvRDb"
   },
   "outputs": [],
   "source": [
    "df = pd.read_csv('/content/AmazonWebScraperDataset.csv')\n",
    "df"
   ]
  }
 ],
 "metadata": {
  "colab": {
   "provenance": []
  },
  "kernelspec": {
   "display_name": "Python 3",
   "name": "python3"
  },
  "language_info": {
   "name": "python"
  }
 },
 "nbformat": 4,
 "nbformat_minor": 0
}
